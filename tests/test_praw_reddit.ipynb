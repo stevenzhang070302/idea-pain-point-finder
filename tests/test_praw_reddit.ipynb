{
 "cells": [
  {
   "cell_type": "code",
   "execution_count": 1,
   "metadata": {},
   "outputs": [
    {
     "name": "stdout",
     "output_type": "stream",
     "text": [
      "True\n",
      "<praw.models.listing.generator.ListingGenerator object at 0x0000023B92471E50>\n"
     ]
    }
   ],
   "source": [
    "import praw\n",
    "\n",
    "reddit = praw.Reddit(\n",
    "    client_id=\"XarPu1JkT6BJ6OWkmBBzVA\",\n",
    "    client_secret=\"9zK9gpGDifcNEFVSb-H31x5swr1Z_Q\",\n",
    "    user_agent=\"reddit_pain_finder_v1.0\"\n",
    ")\n",
    "\n",
    "print(reddit.read_only)  # Should be False if credentials are valid\n",
    "print(reddit.subreddit(\"learnpython\").hot(limit=1))  # A quick test fetch"
   ]
  }
 ],
 "metadata": {
  "kernelspec": {
   "display_name": "compass-experiment",
   "language": "python",
   "name": "python3"
  },
  "language_info": {
   "codemirror_mode": {
    "name": "ipython",
    "version": 3
   },
   "file_extension": ".py",
   "mimetype": "text/x-python",
   "name": "python",
   "nbconvert_exporter": "python",
   "pygments_lexer": "ipython3",
   "version": "3.9.22"
  }
 },
 "nbformat": 4,
 "nbformat_minor": 2
}
